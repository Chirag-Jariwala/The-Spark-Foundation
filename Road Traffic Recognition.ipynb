{
 "cells": [
  {
   "cell_type": "markdown",
   "metadata": {
    "slideshow": {
     "slide_type": "slide"
    }
   },
   "source": [
    "# TASK: Traffic sign classification/Detection system"
   ]
  },
  {
   "cell_type": "code",
   "execution_count": 3,
   "metadata": {},
   "outputs": [],
   "source": [
    "import cv2\n",
    "import imutils\n",
    "from keras.models import load_model\n",
    "import numpy as np"
   ]
  },
  {
   "cell_type": "code",
   "execution_count": 4,
   "metadata": {},
   "outputs": [
    {
     "name": "stdout",
     "output_type": "stream",
     "text": [
      "Loaded model from disk\n"
     ]
    }
   ],
   "source": [
    "font = cv2.FONT_HERSHEY_SIMPLEX\n",
    "\n",
    "model = load_model('gmx/my_model_90.h5')\n",
    "print(\"Loaded model from disk\");\n",
    "\n",
    "def grayscale(img):\n",
    "    img = cv2.cvtColor(img,cv2.COLOR_BGR2GRAY)\n",
    "    return img\n",
    "def equalize(img):\n",
    "    img =cv2.equalizeHist(img)\n",
    "    return img\n",
    "def preprocessing(img):\n",
    "    img = grayscale(img)\n",
    "    img = equalize(img)\n",
    "    img = img/255\n",
    "    return img"
   ]
  },
  {
   "cell_type": "code",
   "execution_count": 5,
   "metadata": {},
   "outputs": [],
   "source": [
    "def getCalssName(classNo):\n",
    "    if   classNo == 0: return 'Speed Limit 20 km/h'\n",
    "    elif classNo == 1: return 'Speed Limit 30 km/h'\n",
    "    elif classNo == 2: return 'Speed Limit 50 km/h'\n",
    "    elif classNo == 3: return 'Speed Limit 60 km/h'\n",
    "    elif classNo == 4: return 'Speed Limit 70 km/h'\n",
    "    elif classNo == 5: return 'Speed Limit 80 km/h'\n",
    "    elif classNo == 6: return 'End of Speed Limit 80 km/h'\n",
    "    elif classNo == 7: return 'Speed Limit 100 km/h'\n",
    "    elif classNo == 8: return 'Speed Limit 120 km/h'\n",
    "    elif classNo == 9: return 'No passing'\n",
    "    elif classNo == 10: return 'No passing for vechiles over 3.5 metric tons'\n",
    "    elif classNo == 11: return 'Right-of-way at the next intersection'\n",
    "    elif classNo == 12: return 'Priority road'\n",
    "    elif classNo == 13: return 'Yield'\n",
    "    elif classNo == 14: return 'Stop'\n",
    "    elif classNo == 15: return 'No vechiles'\n",
    "    elif classNo == 16: return 'Vechiles over 3.5 metric tons prohibited'\n",
    "    elif classNo == 17: return 'No entry'\n",
    "    elif classNo == 18: return 'General caution'\n",
    "    elif classNo == 19: return 'Dangerous curve to the left'\n",
    "    elif classNo == 20: return 'Dangerous curve to the right'\n",
    "    elif classNo == 21: return 'Double curve'\n",
    "    elif classNo == 22: return 'Bumpy road'\n",
    "    elif classNo == 23: return 'Slippery road'\n",
    "    elif classNo == 24: return 'Road narrows on the right'\n",
    "    elif classNo == 25: return 'Road work'\n",
    "    elif classNo == 26: return 'Traffic signals'\n",
    "    elif classNo == 27: return 'Pedestrians'\n",
    "    elif classNo == 28: return 'Children crossing'\n",
    "    elif classNo == 29: return 'Bicycles crossing'\n",
    "    elif classNo == 30: return 'Beware of ice/snow'\n",
    "    elif classNo == 31: return 'Wild animals crossing'\n",
    "    elif classNo == 32: return 'End of all speed and passing limits'\n",
    "    elif classNo == 33: return 'Turn right ahead'\n",
    "    elif classNo == 34: return 'Turn left ahead'\n",
    "    elif classNo == 35: return 'Ahead only'\n",
    "    elif classNo == 36: return 'Go straight or right'\n",
    "    elif classNo == 37: return 'Go straight or left'\n",
    "    elif classNo == 38: return 'Keep right'\n",
    "    elif classNo == 39: return 'Keep left'\n",
    "    elif classNo == 40: return 'Roundabout mandatory'\n",
    "    elif classNo == 41: return 'End of no passing'\n",
    "    elif classNo == 42: return 'End of no passing by vechiles over 3.5 metric tons'"
   ]
  },
  {
   "cell_type": "code",
   "execution_count": 6,
   "metadata": {},
   "outputs": [],
   "source": [
    "def process(img,img1):\n",
    "    img1 = np.asarray(img1)\n",
    "    img1 = cv2.resize(img1, (32, 32))\n",
    "    img1 = preprocessing(img1)\n",
    "    #cv2.imshow(\"Processed Image\", img1)\n",
    "    img1 = img1.reshape(1, 32, 32, 1)\n",
    "    predictions = model.predict(img1)\n",
    "    classIndex = model.predict_classes(img1)\n",
    "    probabilityValue =np.amax(predictions)\n",
    "    if probabilityValue > 0.75:\n",
    "        cv2.putText(img,\"Sign:\"+str(classIndex)+\" \"+str(getCalssName(classIndex)), (10, 35), font, 0.75, (255,0,0), 2, cv2.LINE_AA)\n",
    "        cv2.putText(img, str(round(probabilityValue*100,2) )+\"%\", (10, 75), font, 0.75, (255,0,0), 2, cv2.LINE_AA)\n",
    "        print(getCalssName(classIndex))\n",
    "    return img"
   ]
  },
  {
   "cell_type": "code",
   "execution_count": 7,
   "metadata": {},
   "outputs": [],
   "source": [
    "def getContours(img,tri,hexa,cir):\n",
    "    cv2.rectangle(frame,(0,5),(780,80),(0,255,255),-1)\n",
    "    for (x,y,w,h) in (tri):\n",
    "        cv2.rectangle(img,(x,y),(x+w, y+h),(0,255,0),3)\n",
    "        img1 = img[y:y+h+20, x:x+w]\n",
    "        process(img,img1)\n",
    "        #cv2.imshow(\"Image\", img1)        \n",
    "    for (x,y,w,h) in (hexa):\n",
    "        cv2.rectangle(img,(x,y),(x+w, y+h),(0,255,0),3)\n",
    "        img1 = img[y:y+h, x:x+w]\n",
    "        process(img,img1)\n",
    "    for (x,y,w,h) in (cir):\n",
    "        cv2.rectangle(img,(x,y),(x+w, y+h),(0,255,0),3)\n",
    "        img1 = img[y:y+h, x:x+w]\n",
    "        process(img,img1)\n",
    "    return img\n",
    "\n",
    "def cascade(img):\n",
    "    tri_cascade = cv2.CascadeClassifier('C:\\\\Users\\\\Lenovo\\\\Desktop\\\\Road sign recognition\\\\xml_files\\\\triangular_lbp_new.xml')\n",
    "    tri = tri_cascade.detectMultiScale(img,1.3,55)\n",
    "    hexa_cascade = cv2.CascadeClassifier('C:\\\\Users\\\\Lenovo\\\\Desktop\\\\Road sign recognition\\\\xml_files\\\\stop.xml')\n",
    "    hexa = hexa_cascade.detectMultiScale(img,1.1,15)\n",
    "    cir_cascade = cv2.CascadeClassifier('C:\\\\Users\\\\Lenovo\\\\Desktop\\\\Road sign recognition\\\\xml_files\\\\circular_lbp_new.xml')\n",
    "    cir = cir_cascade.detectMultiScale(img,1.3,30)\n",
    "    image = getContours(img,tri,hexa,cir)\n",
    "    return image"
   ]
  },
  {
   "cell_type": "code",
   "execution_count": 8,
   "metadata": {},
   "outputs": [
    {
     "name": "stdout",
     "output_type": "stream",
     "text": [
      "WARNING:tensorflow:From <ipython-input-6-f7d1f105711c>:8: Sequential.predict_classes (from tensorflow.python.keras.engine.sequential) is deprecated and will be removed after 2021-01-01.\n",
      "Instructions for updating:\n",
      "Please use instead:* `np.argmax(model.predict(x), axis=-1)`,   if your model does multi-class classification   (e.g. if it uses a `softmax` last-layer activation).* `(model.predict(x) > 0.5).astype(\"int32\")`,   if your model does binary classification   (e.g. if it uses a `sigmoid` last-layer activation).\n"
     ]
    }
   ],
   "source": [
    "cap = cv2.VideoCapture(0)\n",
    "while True:\n",
    "    success, frame = cap.read()\n",
    "    frame = cascade(frame)\n",
    "    frame = cv2.resize(frame,(1140,640))\n",
    "    cv2.imshow(\"Result\", frame)\n",
    "    if cv2.waitKey(1) & 0xFF == ord('q'):\n",
    "        break\n",
    "cap.release()\n",
    "cv2.destroyAllWindows()"
   ]
  },
  {
   "cell_type": "code",
   "execution_count": null,
   "metadata": {},
   "outputs": [],
   "source": []
  }
 ],
 "metadata": {
  "kernelspec": {
   "display_name": "Python 3",
   "language": "python",
   "name": "python3"
  },
  "language_info": {
   "codemirror_mode": {
    "name": "ipython",
    "version": 3
   },
   "file_extension": ".py",
   "mimetype": "text/x-python",
   "name": "python",
   "nbconvert_exporter": "python",
   "pygments_lexer": "ipython3",
   "version": "3.8.3"
  }
 },
 "nbformat": 4,
 "nbformat_minor": 4
}
